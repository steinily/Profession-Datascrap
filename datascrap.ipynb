{
 "cells": [
  {
   "cell_type": "code",
   "execution_count": 1,
   "metadata": {},
   "outputs": [],
   "source": [
    "from selenium import webdriver\n",
    "import pandas as pd\n",
    "from sqlalchemy import create_engine\n",
    "from selenium.webdriver.chrome.options import Options\n",
    "from variables import *"
   ]
  },
  {
   "cell_type": "markdown",
   "metadata": {},
   "source": [
    "#Global Variables"
   ]
  },
  {
   "cell_type": "code",
   "execution_count": 2,
   "metadata": {},
   "outputs": [
    {
     "ename": "NameError",
     "evalue": "name 'keyword' is not defined",
     "output_type": "error",
     "traceback": [
      "\u001b[1;31m---------------------------------------------------------------------------\u001b[0m",
      "\u001b[1;31mNameError\u001b[0m                                 Traceback (most recent call last)",
      "\u001b[1;32m~\\AppData\\Local\\Temp/ipykernel_17192/1267495830.py\u001b[0m in \u001b[0;36m<module>\u001b[1;34m\u001b[0m\n\u001b[0;32m      7\u001b[0m         \u001b[1;34m'Position Posted Time'\u001b[0m \u001b[1;33m:\u001b[0m \u001b[1;33m[\u001b[0m\u001b[1;33m]\u001b[0m\u001b[1;33m\u001b[0m\u001b[1;33m\u001b[0m\u001b[0m\n\u001b[0;32m      8\u001b[0m     }\n\u001b[1;32m----> 9\u001b[1;33m \u001b[0mdatabasename\u001b[0m \u001b[1;33m=\u001b[0m\u001b[0mkeyword\u001b[0m\u001b[1;33m+\u001b[0m\u001b[1;34m' proffesion_hu.db'\u001b[0m\u001b[1;33m\u001b[0m\u001b[1;33m\u001b[0m\u001b[0m\n\u001b[0m\u001b[0;32m     10\u001b[0m \u001b[0mengine\u001b[0m \u001b[1;33m=\u001b[0m \u001b[0mcreate_engine\u001b[0m\u001b[1;33m(\u001b[0m\u001b[1;34m'sqlite:///'\u001b[0m \u001b[1;33m+\u001b[0m \u001b[0mdatabasename\u001b[0m \u001b[1;33m,\u001b[0m \u001b[0mecho\u001b[0m\u001b[1;33m=\u001b[0m\u001b[1;32mFalse\u001b[0m\u001b[1;33m)\u001b[0m\u001b[1;33m\u001b[0m\u001b[1;33m\u001b[0m\u001b[0m\n",
      "\u001b[1;31mNameError\u001b[0m: name 'keyword' is not defined"
     ]
    }
   ],
   "source": [
    "url = 'https://www.profession.hu/'\n",
    "keyword = 'Manuális tesztelő'\n",
    "jobs ={\n",
    "        'Indicator' :[] , \n",
    "        'Position Name' : [],\n",
    "        'Position Description' : [],\n",
    "        'Position Link' : [],\n",
    "        'Position Posted Time' : []\n",
    "    }\n",
    "databasename =keyword+' proffesion_hu.db'\n",
    "engine = create_engine('sqlite:///' + databasename , echo=False)"
   ]
  },
  {
   "cell_type": "markdown",
   "metadata": {},
   "source": [
    "#Start the chrome browser and load the profession.hu website"
   ]
  },
  {
   "cell_type": "code",
   "execution_count": null,
   "metadata": {},
   "outputs": [],
   "source": [
    "chrome_options = Options()\n",
    "chrome_options.add_argument(\"--window-size=1920,1080\")\n",
    "chrome_options.add_argument(\"--headless\")\n",
    "driver = webdriver.Chrome(options=chrome_options)\n",
    "driver.get(url)\n"
   ]
  },
  {
   "cell_type": "markdown",
   "metadata": {},
   "source": [
    "#In the searchfield input the desired text"
   ]
  },
  {
   "cell_type": "code",
   "execution_count": null,
   "metadata": {},
   "outputs": [],
   "source": [
    "searchbar = driver.find_element_by_id('header_keyword')\n",
    "searchbutton = driver.find_element_by_id('search-bar-search-button')\n",
    "searchbar.send_keys(keyword)\n",
    "searchbutton.click()"
   ]
  },
  {
   "cell_type": "markdown",
   "metadata": {},
   "source": [
    "#Gathering the nececarry informations"
   ]
  },
  {
   "cell_type": "code",
   "execution_count": null,
   "metadata": {},
   "outputs": [],
   "source": [
    "#Total number of hit\n",
    "totalhit = driver.find_element_by_class_name('job-list__count').text\n",
    "print(f\"Total Job for the {keyword} keyword  is {totalhit} \")"
   ]
  },
  {
   "cell_type": "code",
   "execution_count": null,
   "metadata": {},
   "outputs": [],
   "source": [
    "def job():\n",
    "#Job cards information. \n",
    "    jobofferlist = driver.find_elements_by_css_selector('h2.job-card__title > a')\n",
    "    jobofferpostinglist = driver.find_elements_by_css_selector('div.job-card__date')\n",
    "    joboffertext = driver.find_elements_by_class_name('list_tasks')\n",
    "\n",
    "    jobPositionNameList= [ jobofferlist[i].text for i in range(len(jobofferlist))] #Position name\n",
    "    jobPositionLinkList = [jobofferlist[i].get_attribute('href') for i in range(len(jobofferlist))] # Position Link\n",
    "    jobPositionPostTime = [jobofferpostinglist[i].text for i in range(len(jobofferpostinglist))] # Position posted time\n",
    "    jobPositionPartText = [joboffertext[i].text for i in range(len(joboffertext))] # Position Description\n",
    "\n",
    "\n",
    "    for i in range(len(jobPositionNameList)):\n",
    "        indexincrement = len(jobs['Indicator'])\n",
    "        jobs['Indicator'].append(indexincrement)\n",
    "        jobs['Position Name'].append(jobPositionNameList[i])\n",
    "        jobs['Position Description'].append(jobPositionPartText[i])\n",
    "        jobs['Position Link'].append(jobPositionLinkList[i])\n",
    "        jobs['Position Posted Time'].append(jobPositionPostTime[i])\n",
    "\n",
    "    return jobs"
   ]
  },
  {
   "cell_type": "code",
   "execution_count": null,
   "metadata": {},
   "outputs": [],
   "source": [
    "#Paging \n",
    "try:\n",
    "    job()\n",
    "    while driver.find_element_by_css_selector('a.next.btn-outline-primary').is_displayed():\n",
    "        driver.get(driver.find_element_by_css_selector('a.next.btn-outline-primary').get_attribute('href'))\n",
    "        job()\n",
    "except:\n",
    "    pass\n",
    "\n",
    "finally:\n",
    "    df = pd.DataFrame(jobs)\n",
    "    df.to_excel( keyword +' proffession_hu.xlsx')\n",
    "    df=df.drop('Indicator', axis=1)\n",
    "    df.to_sql('jobs', con=engine  , if_exists='append')\n",
    "    driver.quit()"
   ]
  }
 ],
 "metadata": {
  "interpreter": {
   "hash": "b3ba2566441a7c06988d0923437866b63cedc61552a5af99d1f4fb67d367b25f"
  },
  "kernelspec": {
   "display_name": "Python 3.9.7 64-bit ('base': conda)",
   "language": "python",
   "name": "python3"
  },
  "language_info": {
   "codemirror_mode": {
    "name": "ipython",
    "version": 3
   },
   "file_extension": ".py",
   "mimetype": "text/x-python",
   "name": "python",
   "nbconvert_exporter": "python",
   "pygments_lexer": "ipython3",
   "version": "3.9.7"
  },
  "orig_nbformat": 4
 },
 "nbformat": 4,
 "nbformat_minor": 2
}
