{
 "cells": [
  {
   "cell_type": "code",
   "execution_count": 1,
   "metadata": {},
   "outputs": [],
   "source": [
    "from selenium import webdriver\n",
    "import pandas as pd\n",
    "from sqlalchemy import create_engine\n",
    "from selenium.webdriver.chrome.options import Options\n",
    "from variables import *\n",
    "import re"
   ]
  },
  {
   "cell_type": "markdown",
   "metadata": {},
   "source": [
    "#Global Variables"
   ]
  },
  {
   "cell_type": "code",
   "execution_count": 46,
   "metadata": {},
   "outputs": [],
   "source": [
    "url = 'https://www.profession.hu/'\n",
    "keyword = 'Manuális tesztelő'\n",
    "jobs ={\n",
    "        'Indicator' :[] , \n",
    "        'JobId':[],\n",
    "        'Position Name' : [],\n",
    "        'Position Description' : [],\n",
    "        'Position Link' : [],\n",
    "        'Position Posted Time' : []\n",
    "    }\n",
    "databasename =keyword+' proffesion_hu.db'\n",
    "engine = create_engine('sqlite:///' + databasename , echo=False)"
   ]
  },
  {
   "cell_type": "markdown",
   "metadata": {},
   "source": [
    "#Start the chrome browser and load the profession.hu website"
   ]
  },
  {
   "cell_type": "code",
   "execution_count": 49,
   "metadata": {},
   "outputs": [],
   "source": [
    "chrome_options = Options()\n",
    "#chrome_options.add_argument(\"--window-size=1920,1080\")\n",
    "#chrome_options.add_argument(\"--headless\")\n",
    "#chrome_options.add_argument(\"--log-level=3\")\n",
    "driver = webdriver.Chrome() #options=chrome_options\n",
    "driver.get(url)\n",
    "time\n",
    "cookie=driver.find_element_by_id('elfogad').click()"
   ]
  },
  {
   "cell_type": "markdown",
   "metadata": {},
   "source": [
    "#In the searchfield input the desired text"
   ]
  },
  {
   "cell_type": "code",
   "execution_count": 5,
   "metadata": {},
   "outputs": [],
   "source": [
    "searchbar = driver.find_element_by_id('header_keyword')\n",
    "searchbutton = driver.find_element_by_id('search-bar-search-button')\n",
    "searchbar.send_keys(keyword)\n",
    "searchbutton.click()"
   ]
  },
  {
   "cell_type": "markdown",
   "metadata": {},
   "source": [
    "#Gathering the nececarry informations"
   ]
  },
  {
   "cell_type": "code",
   "execution_count": 6,
   "metadata": {},
   "outputs": [
    {
     "name": "stdout",
     "output_type": "stream",
     "text": [
      "Total Job for the Manuális tesztelő keyword  is 24 db találat \n"
     ]
    }
   ],
   "source": [
    "#Total number of hit\n",
    "totalhit = driver.find_element_by_class_name('job-list__count').text\n",
    "print(f\"Total Job for the {keyword} keyword  is {totalhit} \")"
   ]
  },
  {
   "cell_type": "code",
   "execution_count": 44,
   "metadata": {},
   "outputs": [],
   "source": [
    "def job():\n",
    "#Job cards information. \n",
    "   \n",
    "    jobofferlist = driver.find_elements_by_css_selector('h2.job-card__title > a')\n",
    "    jobofferpostinglist = driver.find_elements_by_css_selector('div.job-card__date')\n",
    "    joboffertext = driver.find_elements_by_class_name('list_tasks')\n",
    "\n",
    "    jobPositionNameList= [ jobofferlist[i].text for i in range(len(jobofferlist))] #Position name\n",
    "    jobPositionLinkList = [jobofferlist[i].get_attribute('href') for i in range(len(jobofferlist))] # Position Link\n",
    "    jobPositionPostTime = [jobofferpostinglist[i].text for i in range(len(jobofferpostinglist))] # Position posted time\n",
    "    jobPositionPartText = [joboffertext[i].text for i in range(len(joboffertext))] # Position Description\n",
    "    \n",
    "    regex=\"(\\d*(?=\\/optimum))|(\\d*(?=\\?keyword)|(\\d*(?=\\/pro)))\"\n",
    "\n",
    "    for i in range(len(jobPositionNameList)):\n",
    "        indexincrement = len(jobs['Indicator'])\n",
    "        x=re.findall(regex,jobPositionLinkList[i])\n",
    "        y= x[0][0]  if  len(x[0][0]) > 0 else  x[0][1]\n",
    "        jobs['JobId'].append(y)\n",
    "        jobs['Indicator'].append(indexincrement)\n",
    "        jobs['Position Name'].append(jobPositionNameList[i])\n",
    "        jobs['Position Description'].append(jobPositionPartText[i])\n",
    "        jobs['Position Link'].append(jobPositionLinkList[i])\n",
    "        jobs['Position Posted Time'].append(jobPositionPostTime[i])\n",
    "       \n",
    "\n",
    "    return jobs"
   ]
  },
  {
   "cell_type": "code",
   "execution_count": null,
   "metadata": {},
   "outputs": [],
   "source": [
    "#Paging \n",
    "try:\n",
    "    job()\n",
    "    while driver.find_element_by_css_selector('a.next.btn-outline-primary').is_displayed():\n",
    "        driver.get(driver.find_element_by_css_selector('a.next.btn-outline-primary').get_attribute('href'))\n",
    "        job()\n",
    "except:\n",
    "    pass\n",
    "\n",
    "finally:\n",
    "    df = pd.DataFrame(jobs)\n",
    "    df.to_excel( keyword +' proffession_hu.xlsx')\n",
    "    df=df.drop('Indicator', axis=1)\n",
    "    df.to_sql('jobs', con=engine  , if_exists='append')\n",
    "    driver.quit()"
   ]
  }
 ],
 "metadata": {
  "interpreter": {
   "hash": "ad2bdc8ecc057115af97d19610ffacc2b4e99fae6737bb82f5d7fb13d2f2c186"
  },
  "kernelspec": {
   "display_name": "Python 3.9.7 ('base')",
   "language": "python",
   "name": "python3"
  },
  "language_info": {
   "codemirror_mode": {
    "name": "ipython",
    "version": 3
   },
   "file_extension": ".py",
   "mimetype": "text/x-python",
   "name": "python",
   "nbconvert_exporter": "python",
   "pygments_lexer": "ipython3",
   "version": "3.9.7"
  },
  "orig_nbformat": 4
 },
 "nbformat": 4,
 "nbformat_minor": 2
}
